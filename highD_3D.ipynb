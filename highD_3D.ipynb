{
 "cells": [
  {
   "cell_type": "code",
   "execution_count": null,
   "metadata": {},
   "outputs": [],
   "source": [
    "exec(open('init_notebook.py').read())\n",
    "import random\n",
    "import carla\n",
    "import numpy as np\n",
    "import cv2\n",
    "import pandas as pd\n",
    "from agents.vehicles.VehicleFactory import VehicleFactory"
   ]
  },
  {
   "cell_type": "code",
   "execution_count": null,
   "metadata": {},
   "outputs": [],
   "source": [
    "host = '127.0.0.1'\n",
    "port = 2000\n",
    "data_dir = 'data/'\n",
    "\n",
    "tracksMeta = '01_tracksMeta.csv'\n",
    "tracks = '01_tracks.csv'\n",
    "recordingMeta = '01_recordingMeta.csv'\n",
    "image = '01_highway.png'"
   ]
  },
  {
   "cell_type": "code",
   "execution_count": null,
   "metadata": {},
   "outputs": [],
   "source": [
    "client = carla.Client(host, port)\n",
    "client.set_timeout(5.0)\n",
    "print(f\"Client carla version: {client.get_client_version()}\")\n",
    "print(f\"Server carla version: {client.get_server_version()}\")\n",
    "# getting world\n",
    "world = client.get_world()\n",
    "debug = world.debug\n",
    "_map = world.get_map()\n",
    "\n",
    "spectator = world.get_spectator()\n",
    "# print(spectator.get_transform())\n",
    "spectator.set_transform(carla.Transform(carla.Location(x=0, y=0, z=200), carla.Rotation(pitch=-90, yaw=-90)))"
   ]
  },
  {
   "cell_type": "code",
   "execution_count": null,
   "metadata": {},
   "outputs": [],
   "source": [
    "img = cv2.imread(data_dir+image)\n",
    "tracksMeta = pd.read_csv(data_dir+tracksMeta)\n",
    "tracks = pd.read_csv(data_dir+tracks)\n",
    "recordingMeta = pd.read_csv(data_dir+recordingMeta)\n",
    "print(img.shape)\n",
    "tracks.tail()"
   ]
  },
  {
   "cell_type": "code",
   "execution_count": null,
   "metadata": {},
   "outputs": [],
   "source": [
    "factor = 0.40424   # 4 * 0.10106 = 0.40424\n",
    "life_time = 20\n",
    "thickness = 0.3\n",
    "pivot = world.get_map().get_spawn_points()[0]\n",
    "pivot = world.ground_projection(pivot.location, search_distance=400).location\n",
    "\n",
    "upperLaneMarking = recordingMeta['upperLaneMarkings'].values[0].split(';')\n",
    "lowerLaneMarking = recordingMeta['lowerLaneMarkings'].values[0].split(';')\n",
    "upperLaneMarking = [float(x) for x in upperLaneMarking]\n",
    "lowerLaneMarking = [float(x) for x in lowerLaneMarking]\n",
    "print(upperLaneMarking)\n",
    "print(lowerLaneMarking)\n",
    "print(pivot)\n",
    "factored_image_size = np.asarray(img.shape) * factor\n",
    "print(factored_image_size)"
   ]
  },
  {
   "cell_type": "code",
   "execution_count": null,
   "metadata": {},
   "outputs": [],
   "source": [
    "first_line_start = pivot\n",
    "first_line_end = carla.Location(first_line_start.x+factored_image_size[1], first_line_start.y, first_line_start.z)\n",
    "\n",
    "left_side_line_start = pivot\n",
    "left_side_line_end = carla.Location(left_side_line_start.x, left_side_line_start.y+factored_image_size[0], left_side_line_start.z)\n",
    "\n",
    "bottom_line_start = left_side_line_end\n",
    "bottom_line_end = carla.Location(bottom_line_start.x+factored_image_size[1], bottom_line_start.y, bottom_line_start.z)\n",
    "\n",
    "right_side_line_start = first_line_end\n",
    "right_side_line_end = bottom_line_end\n",
    "\n",
    "upper_line_1_start = carla.Location(pivot.x, pivot.y + upperLaneMarking[0], pivot.z)\n",
    "upper_line_1_end = carla.Location(upper_line_1_start.x+factored_image_size[1], upper_line_1_start.y, upper_line_1_start.z)\n",
    "\n",
    "upper_line_2_start = carla.Location(pivot.x, pivot.y + upperLaneMarking[1], pivot.z)\n",
    "upper_line_2_end = carla.Location(upper_line_2_start.x+factored_image_size[1], upper_line_2_start.y, upper_line_2_start.z)\n",
    "\n",
    "upper_line_3_start = carla.Location(pivot.x, pivot.y + upperLaneMarking[2], pivot.z)\n",
    "upper_line_3_end = carla.Location(upper_line_3_start.x+factored_image_size[1], upper_line_3_start.y, upper_line_3_start.z)\n",
    "\n",
    "lower_line_1_start = carla.Location(pivot.x, pivot.y + lowerLaneMarking[0], pivot.z)\n",
    "lower_line_1_end = carla.Location(lower_line_1_start.x+factored_image_size[1], lower_line_1_start.y, lower_line_1_start.z)\n",
    "\n",
    "lower_line_2_start = carla.Location(pivot.x, pivot.y + lowerLaneMarking[1], pivot.z)\n",
    "lower_line_2_end = carla.Location(lower_line_2_start.x+factored_image_size[1], lower_line_2_start.y, lower_line_2_start.z)\n",
    "\n",
    "lower_line_3_start = carla.Location(pivot.x, pivot.y + lowerLaneMarking[2], pivot.z)\n",
    "lower_line_3_end = carla.Location(lower_line_3_start.x+factored_image_size[1], lower_line_3_start.y, lower_line_3_start.z)\n",
    "\n"
   ]
  },
  {
   "cell_type": "code",
   "execution_count": null,
   "metadata": {},
   "outputs": [],
   "source": [
    "debug.draw_line(begin=first_line_start,\n",
    "                end=first_line_end,\n",
    "                thickness=thickness,\n",
    "                color=carla.Color(255,0,0),\n",
    "                life_time=life_time)\n",
    "\n",
    "debug.draw_line(begin=left_side_line_start,\n",
    "                end=left_side_line_end,\n",
    "                thickness=thickness,\n",
    "                color=carla.Color(255,0,0),\n",
    "                life_time=life_time)\n",
    "\n",
    "debug.draw_line(begin=bottom_line_start,\n",
    "                end=bottom_line_end,\n",
    "                thickness=thickness,\n",
    "                color=carla.Color(255,0,0),\n",
    "                life_time=life_time)\n",
    "\n",
    "debug.draw_line(begin=right_side_line_start,\n",
    "                end=right_side_line_end,\n",
    "                thickness=thickness,\n",
    "                color=carla.Color(255,0,0),\n",
    "                life_time=life_time)\n",
    "\n",
    "debug.draw_line(begin=upper_line_1_start,\n",
    "                end=upper_line_1_end,\n",
    "                thickness=thickness,\n",
    "                color=carla.Color(0,0,255),\n",
    "                life_time=life_time)\n",
    "\n",
    "debug.draw_line(begin=upper_line_2_start,\n",
    "                end=upper_line_2_end,\n",
    "                thickness=thickness,\n",
    "                color=carla.Color(0,0,255),\n",
    "                life_time=life_time)\n",
    "\n",
    "debug.draw_line(begin=upper_line_3_start,\n",
    "                end=upper_line_3_end,\n",
    "                thickness=thickness,\n",
    "                color=carla.Color(0,0,255),\n",
    "                life_time=life_time)\n",
    "\n",
    "debug.draw_line(begin=lower_line_1_start,\n",
    "                end=lower_line_1_end,\n",
    "                thickness=thickness,\n",
    "                color=carla.Color(0,0,255),\n",
    "                life_time=life_time)\n",
    "\n",
    "debug.draw_line(begin=lower_line_2_start,\n",
    "                end=lower_line_2_end,\n",
    "                thickness=thickness,\n",
    "                color=carla.Color(0,0,255),\n",
    "                life_time=life_time)\n",
    "\n",
    "debug.draw_line(begin=lower_line_3_start,\n",
    "                end=lower_line_3_end,\n",
    "                thickness=thickness,\n",
    "                color=carla.Color(0,0,255),\n",
    "                life_time=life_time)\n",
    "\n"
   ]
  },
  {
   "cell_type": "code",
   "execution_count": null,
   "metadata": {},
   "outputs": [],
   "source": []
  },
  {
   "cell_type": "code",
   "execution_count": null,
   "metadata": {},
   "outputs": [],
   "source": [
    "from lib.utils import Utils\n",
    "\n",
    "\n",
    "def origin_transform_to_pivot(pivot, point, height=0):\n",
    "    new_x = pivot.x + point.x\n",
    "    new_y = pivot.y + point.y\n",
    "    new_z = height\n",
    "    return carla.Location(x=new_x, y=new_y, z=new_z)\n",
    "\n",
    "def draw_transform_list(debug, transforms, life_time):\n",
    "    for transform in transforms:\n",
    "        debug.draw_point(transform.location, size=0.1, color=carla.Color(255,0,0), life_time=life_time)\n",
    "    pass\n",
    "\n",
    "agent_id = 1\n",
    "agent_track_data = tracks[tracks['id'] == agent_id]\n",
    "trajectory_transforms = []\n",
    "for index, row in agent_track_data.iterrows():\n",
    "    point = carla.Location(x=row['x'], y=row['y'], z=0)\n",
    "    location = origin_transform_to_pivot(pivot, point, 0.5)\n",
    "    rotation = carla.Rotation(pitch=0, yaw=0, roll=0)\n",
    "    transform = carla.Transform(location, rotation)\n",
    "    trajectory_transforms.append(transform)\n",
    "\n",
    "# print(trajectory_transforms)\n",
    "\n",
    "draw_transform_list(debug, trajectory_transforms, life_time=10)\n",
    "\n",
    "\n"
   ]
  },
  {
   "cell_type": "code",
   "execution_count": null,
   "metadata": {},
   "outputs": [],
   "source": [
    "waypoints = []\n",
    "for transform in trajectory_transforms:\n",
    "    waypoint = _map.get_waypoint(transform.location)\n",
    "    print('road id ', waypoint.road_id, \n",
    "          'section id ', waypoint.section_id, \n",
    "          'lane id ', waypoint.lane_id)\n",
    "    \n",
    "    waypoints.append(waypoint)\n",
    "# print(waypoints)\n",
    "\n",
    "# Utils.draw_waypoints(debug, waypoints, life_time=10)"
   ]
  },
  {
   "cell_type": "code",
   "execution_count": null,
   "metadata": {},
   "outputs": [],
   "source": [
    "bpLib = world.get_blueprint_library()\n",
    "vehicles = bpLib.filter('vehicle.*')\n",
    "vehicle_bp = vehicles[0]\n",
    "\n",
    "vehicle = world.spawn_actor(vehicle_bp, trajectory_transforms[0])\n",
    "# vehicle.set_simulate_physics(False)\n",
    "world.wait_for_tick()\n",
    "\n",
    "\n",
    "vehicle_factory = VehicleFactory(world)\n",
    "basic_agent = vehicle_factory.createAgent(vehicle=vehicle, target_speed=40)"
   ]
  },
  {
   "cell_type": "code",
   "execution_count": null,
   "metadata": {},
   "outputs": [],
   "source": [
    "print(basic_agent._vehicle.get_transform())\n",
    "# print(trajectory_transforms[-1])\n"
   ]
  },
  {
   "cell_type": "code",
   "execution_count": null,
   "metadata": {},
   "outputs": [],
   "source": [
    "basic_agent.set_destination(trajectory_transforms[-1].location)"
   ]
  },
  {
   "cell_type": "code",
   "execution_count": null,
   "metadata": {},
   "outputs": [],
   "source": [
    "while basic_agent.done() == False:\n",
    "    control = basic_agent.run_step()\n",
    "    basic_agent.vehicle.apply_control(control)\n",
    "    world.wait_for_tick()"
   ]
  },
  {
   "cell_type": "code",
   "execution_count": null,
   "metadata": {},
   "outputs": [],
   "source": [
    "basic_agent.destroy()"
   ]
  }
 ],
 "metadata": {
  "kernelspec": {
   "display_name": "Python 3.7.11 ('carla-vehicle')",
   "language": "python",
   "name": "python3"
  },
  "language_info": {
   "codemirror_mode": {
    "name": "ipython",
    "version": 3
   },
   "file_extension": ".py",
   "mimetype": "text/x-python",
   "name": "python",
   "nbconvert_exporter": "python",
   "pygments_lexer": "ipython3",
   "version": "3.7.11"
  },
  "orig_nbformat": 4,
  "vscode": {
   "interpreter": {
    "hash": "fa5f0ba12b2865ab3a23daa32f07998d8efd58032fc91693b4926503a96e5135"
   }
  }
 },
 "nbformat": 4,
 "nbformat_minor": 2
}
