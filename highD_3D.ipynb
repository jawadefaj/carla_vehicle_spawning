{
 "cells": [
  {
   "cell_type": "code",
   "execution_count": 1,
   "metadata": {},
   "outputs": [],
   "source": [
    "import random\n",
    "import carla"
   ]
  },
  {
   "cell_type": "code",
   "execution_count": 2,
   "metadata": {},
   "outputs": [
    {
     "name": "stdout",
     "output_type": "stream",
     "text": [
      "Client carla version: 0.9.13\n",
      "Server carla version: 0.9.13-1-g8854804f4-dirty\n",
      "World map: highD2/Maps/highD_2/highD_2\n"
     ]
    }
   ],
   "source": [
    "host = '127.0.0.1'\n",
    "port = 2000\n",
    "\n",
    "#  connecting to server\n",
    "client = carla.Client(host, port)\n",
    "client.set_timeout(5.0)\n",
    "print(f\"Client carla version: {client.get_client_version()}\")\n",
    "print(f\"Server carla version: {client.get_server_version()}\")\n",
    "\n",
    "# getting world\n",
    "world = client.get_world()\n",
    "print(f\"World map: {world.get_map().name}\")"
   ]
  },
  {
   "cell_type": "code",
   "execution_count": null,
   "metadata": {},
   "outputs": [],
   "source": []
  }
 ],
 "metadata": {
  "kernelspec": {
   "display_name": "Python 3.7.11 ('carla-vehicle')",
   "language": "python",
   "name": "python3"
  },
  "language_info": {
   "codemirror_mode": {
    "name": "ipython",
    "version": 3
   },
   "file_extension": ".py",
   "mimetype": "text/x-python",
   "name": "python",
   "nbconvert_exporter": "python",
   "pygments_lexer": "ipython3",
   "version": "3.7.11"
  },
  "orig_nbformat": 4,
  "vscode": {
   "interpreter": {
    "hash": "fa5f0ba12b2865ab3a23daa32f07998d8efd58032fc91693b4926503a96e5135"
   }
  }
 },
 "nbformat": 4,
 "nbformat_minor": 2
}
